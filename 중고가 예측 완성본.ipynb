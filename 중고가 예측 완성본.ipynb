{
 "cells": [
  {
   "cell_type": "markdown",
   "metadata": {
    "id": "9qU0Itz_JJtR"
   },
   "source": [
    "# 5.1) 중고나라 핸드폰 거래가격 예측하기"
   ]
  },
  {
   "cell_type": "markdown",
   "metadata": {
    "id": "BRnwuIcsJJtU"
   },
   "source": [
    "-----"
   ]
  },
  {
   "cell_type": "code",
   "execution_count": 1,
   "metadata": {
    "executionInfo": {
     "elapsed": 392,
     "status": "ok",
     "timestamp": 1636465209690,
     "user": {
      "displayName": "sumin cho",
      "photoUrl": "https://lh3.googleusercontent.com/a/default-user=s64",
      "userId": "13171594922590166882"
     },
     "user_tz": -540
    },
    "id": "QeR1gikRJJtV"
   },
   "outputs": [],
   "source": [
    "# -*- coding: utf-8 -*-\n",
    "\n",
    "%matplotlib inline\n",
    "\n",
    "import pandas as pd\n",
    "import numpy as np\n",
    "import matplotlib.pyplot as plt\n",
    "import seaborn as sns\n",
    "\n",
    "import warnings\n",
    "warnings.filterwarnings(\"ignore\")"
   ]
  },
  {
   "cell_type": "code",
   "execution_count": 2,
   "metadata": {
    "colab": {
     "base_uri": "https://localhost:8080/"
    },
    "executionInfo": {
     "elapsed": 487,
     "status": "ok",
     "timestamp": 1636465663991,
     "user": {
      "displayName": "sumin cho",
      "photoUrl": "https://lh3.googleusercontent.com/a/default-user=s64",
      "userId": "13171594922590166882"
     },
     "user_tz": -540
    },
    "id": "cZuqkL4kJl57",
    "outputId": "a2a14d7e-cc36-4ee4-e562-e366f11cf470"
   },
   "outputs": [],
   "source": [
    "# from google.colab import drive\n",
    "# drive.mount('/content/gdrive')"
   ]
  },
  {
   "cell_type": "markdown",
   "metadata": {
    "id": "Vt_P_mToJJtY"
   },
   "source": [
    "# <Step1. 탐색적 분석> : 중고나라 데이터 분석"
   ]
  },
  {
   "cell_type": "markdown",
   "metadata": {
    "id": "oOOVfVIUJJtZ"
   },
   "source": [
    "### [중고나라 데이터셋 살펴보기]"
   ]
  },
  {
   "cell_type": "code",
   "execution_count": 3,
   "metadata": {
    "colab": {
     "base_uri": "https://localhost:8080/",
     "height": 537
    },
    "executionInfo": {
     "elapsed": 426,
     "status": "ok",
     "timestamp": 1636466018096,
     "user": {
      "displayName": "sumin cho",
      "photoUrl": "https://lh3.googleusercontent.com/a/default-user=s64",
      "userId": "13171594922590166882"
     },
     "user_tz": -540
    },
    "id": "N6kYq1lRJJta",
    "outputId": "a57e8c94-5680-487e-875e-1fef61c936d6",
    "scrolled": true
   },
   "outputs": [
    {
     "name": "stdout",
     "output_type": "stream",
     "text": [
      "<class 'pandas.core.frame.DataFrame'>\n",
      "RangeIndex: 1493 entries, 0 to 1492\n",
      "Data columns (total 6 columns):\n",
      " #   Column         Non-Null Count  Dtype \n",
      "---  ------         --------------  ----- \n",
      " 0   create_date    1493 non-null   object\n",
      " 1   text           1493 non-null   object\n",
      " 2   model          1493 non-null   object\n",
      " 3   price          1493 non-null   int64 \n",
      " 4   factory_price  1493 non-null   int64 \n",
      " 5   maker          1493 non-null   object\n",
      "dtypes: int64(2), object(4)\n",
      "memory usage: 70.1+ KB\n",
      "None\n"
     ]
    },
    {
     "data": {
      "text/html": [
       "<div>\n",
       "<style scoped>\n",
       "    .dataframe tbody tr th:only-of-type {\n",
       "        vertical-align: middle;\n",
       "    }\n",
       "\n",
       "    .dataframe tbody tr th {\n",
       "        vertical-align: top;\n",
       "    }\n",
       "\n",
       "    .dataframe thead th {\n",
       "        text-align: right;\n",
       "    }\n",
       "</style>\n",
       "<table border=\"1\" class=\"dataframe\">\n",
       "  <thead>\n",
       "    <tr style=\"text-align: right;\">\n",
       "      <th></th>\n",
       "      <th>create_date</th>\n",
       "      <th>text</th>\n",
       "      <th>model</th>\n",
       "      <th>price</th>\n",
       "      <th>factory_price</th>\n",
       "      <th>maker</th>\n",
       "    </tr>\n",
       "  </thead>\n",
       "  <tbody>\n",
       "    <tr>\n",
       "      <th>0</th>\n",
       "      <td>2021.11.08. 17:24</td>\n",
       "      <td>나이키 에어맥스97 OG 실버불렛 / 나코탭 새제품 / 275</td>\n",
       "      <td>나이키 에어맥스 97</td>\n",
       "      <td>350000</td>\n",
       "      <td>199000</td>\n",
       "      <td>Nike</td>\n",
       "    </tr>\n",
       "    <tr>\n",
       "      <th>1</th>\n",
       "      <td>2021.11.08. 16:45</td>\n",
       "      <td>나이키 에어맥스97 페르시안 바이올렛 미개봉 275 팝니다</td>\n",
       "      <td>나이키 에어맥스 97</td>\n",
       "      <td>125000</td>\n",
       "      <td>199000</td>\n",
       "      <td>Nike</td>\n",
       "    </tr>\n",
       "    <tr>\n",
       "      <th>2</th>\n",
       "      <td>2021.11.08. 16:18</td>\n",
       "      <td>나이키에어맥스97 트리플화이트 235</td>\n",
       "      <td>나이키 에어맥스 97</td>\n",
       "      <td>130000</td>\n",
       "      <td>199000</td>\n",
       "      <td>Nike</td>\n",
       "    </tr>\n",
       "    <tr>\n",
       "      <th>3</th>\n",
       "      <td>2021.11.08. 16:15</td>\n",
       "      <td>나이키 에어맥스 97 250사이즈</td>\n",
       "      <td>나이키 에어맥스 97</td>\n",
       "      <td>2000</td>\n",
       "      <td>199000</td>\n",
       "      <td>Nike</td>\n",
       "    </tr>\n",
       "    <tr>\n",
       "      <th>4</th>\n",
       "      <td>2021.11.08. 16:14</td>\n",
       "      <td>나이키 에어맥스97 핑크크림 250</td>\n",
       "      <td>나이키 에어맥스 97</td>\n",
       "      <td>135000</td>\n",
       "      <td>199000</td>\n",
       "      <td>Nike</td>\n",
       "    </tr>\n",
       "  </tbody>\n",
       "</table>\n",
       "</div>"
      ],
      "text/plain": [
       "         create_date                                text        model   price  \\\n",
       "0  2021.11.08. 17:24  나이키 에어맥스97 OG 실버불렛 / 나코탭 새제품 / 275  나이키 에어맥스 97  350000   \n",
       "1  2021.11.08. 16:45    나이키 에어맥스97 페르시안 바이올렛 미개봉 275 팝니다  나이키 에어맥스 97  125000   \n",
       "2  2021.11.08. 16:18                나이키에어맥스97 트리플화이트 235  나이키 에어맥스 97  130000   \n",
       "3  2021.11.08. 16:15                  나이키 에어맥스 97 250사이즈  나이키 에어맥스 97    2000   \n",
       "4  2021.11.08. 16:14                 나이키 에어맥스97 핑크크림 250  나이키 에어맥스 97  135000   \n",
       "\n",
       "   factory_price maker  \n",
       "0         199000  Nike  \n",
       "1         199000  Nike  \n",
       "2         199000  Nike  \n",
       "3         199000  Nike  \n",
       "4         199000  Nike  "
      ]
     },
     "execution_count": 3,
     "metadata": {},
     "output_type": "execute_result"
    }
   ],
   "source": [
    "df = pd.read_csv(\"중고나라 2021-11-08나이키 에어맥스 97 매물_가격수정.csv\")\n",
    "# df=df.drop(columns=['price_index'],axis=1)\n",
    "print(df.info())\n",
    "df.head()"
   ]
  },
  {
   "cell_type": "markdown",
   "metadata": {
    "id": "8Ft36a0oJJte"
   },
   "source": [
    "-----"
   ]
  },
  {
   "cell_type": "markdown",
   "metadata": {
    "id": "CUGf74F9JJtf"
   },
   "source": [
    "### [개별 피처 탐색하기]"
   ]
  },
  {
   "cell_type": "markdown",
   "metadata": {
    "id": "tA6YyefdJJtg"
   },
   "source": [
    "##### date 피처 탐색"
   ]
  },
  {
   "cell_type": "code",
   "execution_count": 4,
   "metadata": {
    "colab": {
     "base_uri": "https://localhost:8080/",
     "height": 425
    },
    "executionInfo": {
     "elapsed": 301,
     "status": "error",
     "timestamp": 1636465890760,
     "user": {
      "displayName": "sumin cho",
      "photoUrl": "https://lh3.googleusercontent.com/a/default-user=s64",
      "userId": "13171594922590166882"
     },
     "user_tz": -540
    },
    "id": "QA-d_3pXJJtg",
    "outputId": "02079ecc-a588-4701-e46f-5ecf5dfff385"
   },
   "outputs": [
    {
     "data": {
      "text/plain": [
       "2021.11    599\n",
       "2021.10    417\n",
       "2021.07     87\n",
       "2021.09     67\n",
       "2021.08     57\n",
       "2020.11     44\n",
       "2021.04     40\n",
       "2021.06     34\n",
       "2020.12     30\n",
       "2021.05     29\n",
       "2021.03     28\n",
       "2021.01     18\n",
       "2021.02     18\n",
       "2020.09     10\n",
       "2020.08      7\n",
       "2020.10      5\n",
       "2020.07      3\n",
       "Name: month, dtype: int64"
      ]
     },
     "execution_count": 4,
     "metadata": {},
     "output_type": "execute_result"
    }
   ],
   "source": [
    "# create_date로부터 ‘월’을 의미하는 month 정보를 피처로 추출합니다.\n",
    "df['month'] = df['create_date'].apply(lambda x: x[:7])\n",
    "\n",
    "# 월별 거래 횟수를 계산하여 출력합니다.\n",
    "df['month'].value_counts()"
   ]
  },
  {
   "cell_type": "code",
   "execution_count": 5,
   "metadata": {
    "colab": {
     "base_uri": "https://localhost:8080/",
     "height": 425
    },
    "executionInfo": {
     "elapsed": 301,
     "status": "error",
     "timestamp": 1636465890760,
     "user": {
      "displayName": "sumin cho",
      "photoUrl": "https://lh3.googleusercontent.com/a/default-user=s64",
      "userId": "13171594922590166882"
     },
     "user_tz": -540
    },
    "id": "QA-d_3pXJJtg",
    "outputId": "02079ecc-a588-4701-e46f-5ecf5dfff385"
   },
   "outputs": [
    {
     "data": {
      "image/png": "[encoded data removed]",
      "text/plain": [
       "<Figure size 432x288 with 1 Axes>"
      ]
     },
     "metadata": {
      "needs_background": "light"
     },
     "output_type": "display_data"
    }
   ],
   "source": [
    "# 일별 거래 횟수를 계산하여 그래프로 출력합니다.\n",
    "df_day = pd.to_datetime(df['create_date'].apply(lambda x: x[:10])).value_counts()\n",
    "df_day.plot()\n",
    "plt.show()"
   ]
  },
  {
   "cell_type": "markdown",
   "metadata": {
    "id": "U8g3S9KeJJtj"
   },
   "source": [
    "-----"
   ]
  },
  {
   "cell_type": "markdown",
   "metadata": {
    "id": "fQK7wga8JJtk"
   },
   "source": [
    "##### 가격 피처 탐색"
   ]
  },
  {
   "cell_type": "code",
   "execution_count": 6,
   "metadata": {
    "colab": {
     "base_uri": "https://localhost:8080/",
     "height": 296
    },
    "executionInfo": {
     "elapsed": 1019,
     "status": "ok",
     "timestamp": 1636466022213,
     "user": {
      "displayName": "sumin cho",
      "photoUrl": "https://lh3.googleusercontent.com/a/default-user=s64",
      "userId": "13171594922590166882"
     },
     "user_tz": -540
    },
    "id": "-MrvWr0qJJtl",
    "outputId": "4a3bcca9-578c-49a0-d8e0-d2ce1c01e16b"
   },
   "outputs": [
    {
     "data": {
      "text/plain": [
       "<matplotlib.axes._subplots.AxesSubplot at 0x28c45b975e0>"
      ]
     },
     "execution_count": 6,
     "metadata": {},
     "output_type": "execute_result"
    },
    {
     "data": {
      "image/png": "[encoded data removed]",
      "text/plain": [
       "<Figure size 432x288 with 1 Axes>"
      ]
     },
     "metadata": {
      "needs_background": "light"
     },
     "output_type": "display_data"
    }
   ],
   "source": [
    "# 가격의 분포를 그래프로 탐색합니다.\n",
    "df['price'].hist(bins=\"auto\")"
   ]
  },
  {
   "cell_type": "code",
   "execution_count": 7,
   "metadata": {
    "colab": {
     "base_uri": "https://localhost:8080/",
     "height": 407
    },
    "executionInfo": {
     "elapsed": 312,
     "status": "error",
     "timestamp": 1636466099786,
     "user": {
      "displayName": "sumin cho",
      "photoUrl": "https://lh3.googleusercontent.com/a/default-user=s64",
      "userId": "13171594922590166882"
     },
     "user_tz": -540
    },
    "id": "cWMgekcCJJtm",
    "outputId": "fb7df34a-fe97-4b28-abe2-d3939f93533e"
   },
   "outputs": [],
   "source": [
    "# 핸드폰 기종(phone_model)별 가격의 평균과 표준편차를 계산합니다.\n",
    "df_price_model_mean = df.groupby('model')['price'].transform(lambda x: np.mean(x))\n",
    "df_price_model_std = df.groupby('model')['price'].transform(lambda x: np.std(x))"
   ]
  },
  {
   "cell_type": "code",
   "execution_count": 8,
   "metadata": {
    "colab": {
     "base_uri": "https://localhost:8080/",
     "height": 223
    },
    "executionInfo": {
     "elapsed": 19,
     "status": "error",
     "timestamp": 1636466039927,
     "user": {
      "displayName": "sumin cho",
      "photoUrl": "https://lh3.googleusercontent.com/a/default-user=s64",
      "userId": "13171594922590166882"
     },
     "user_tz": -540
    },
    "id": "-H7xGXeeJJtn",
    "outputId": "d349d6b2-37b8-4e64-e70d-d6d373c5cdfc"
   },
   "outputs": [
    {
     "data": {
      "text/plain": [
       "<matplotlib.axes._subplots.AxesSubplot at 0x28c4608e1f0>"
      ]
     },
     "execution_count": 8,
     "metadata": {},
     "output_type": "execute_result"
    },
    {
     "data": {
      "image/png": "[encoded data removed]",
      "text/plain": [
       "<Figure size 432x288 with 1 Axes>"
      ]
     },
     "metadata": {
      "needs_background": "light"
     },
     "output_type": "display_data"
    }
   ],
   "source": [
    "# 이를 바탕으로 모든 데이터의 z-score를 계산합니다. 이는 해당 데이터의 가격이 기종별 평균에 비해 어느정도로 높거나 낮은지를 알 수 있게 하는 점수입니다.\n",
    "df_price_model_z_score = (df['price'] - df_price_model_mean) / df_price_model_std\n",
    "df_price_model_z_score.hist(bins=\"auto\")"
   ]
  },
  {
   "cell_type": "markdown",
   "metadata": {
    "id": "g-HhkCkcJJtp"
   },
   "source": [
    "-----"
   ]
  },
  {
   "cell_type": "markdown",
   "metadata": {
    "id": "6loBG_jvJJtp"
   },
   "source": [
    "##### 출고가 피처 탐색"
   ]
  },
  {
   "cell_type": "code",
   "execution_count": 9,
   "metadata": {
    "colab": {
     "base_uri": "https://localhost:8080/",
     "height": 283
    },
    "executionInfo": {
     "elapsed": 330,
     "status": "ok",
     "timestamp": 1636466037672,
     "user": {
      "displayName": "sumin cho",
      "photoUrl": "https://lh3.googleusercontent.com/a/default-user=s64",
      "userId": "13171594922590166882"
     },
     "user_tz": -540
    },
    "id": "P52BKXIdJJtq",
    "outputId": "5937be68-e99e-4396-bd75-7a2ae32bb787"
   },
   "outputs": [
    {
     "data": {
      "text/plain": [
       "<matplotlib.axes._subplots.AxesSubplot at 0x28c461679a0>"
      ]
     },
     "execution_count": 9,
     "metadata": {},
     "output_type": "execute_result"
    },
    {
     "data": {
      "image/png": "[encoded data removed]",
      "text/plain": [
       "<Figure size 432x288 with 1 Axes>"
      ]
     },
     "metadata": {
      "needs_background": "light"
     },
     "output_type": "display_data"
    }
   ],
   "source": [
    "# factory_price 피처의 분포를 탐색합니다.\n",
    "df['factory_price'].hist(bins=\"auto\")"
   ]
  },
  {
   "cell_type": "code",
   "execution_count": 10,
   "metadata": {
    "colab": {
     "base_uri": "https://localhost:8080/",
     "height": 308
    },
    "executionInfo": {
     "elapsed": 328,
     "status": "ok",
     "timestamp": 1636465944700,
     "user": {
      "displayName": "sumin cho",
      "photoUrl": "https://lh3.googleusercontent.com/a/default-user=s64",
      "userId": "13171594922590166882"
     },
     "user_tz": -540
    },
    "id": "3BdF6grgJJtr",
    "outputId": "2f5ac623-fe88-4fd5-9844-0ead4aee178f"
   },
   "outputs": [
    {
     "data": {
      "text/plain": [
       "<matplotlib.axes._subplots.AxesSubplot at 0x28c461f84c0>"
      ]
     },
     "execution_count": 10,
     "metadata": {},
     "output_type": "execute_result"
    },
    {
     "data": {
      "image/png": "[encoded data removed]",
      "text/plain": [
       "<Figure size 432x288 with 1 Axes>"
      ]
     },
     "metadata": {
      "needs_background": "light"
     },
     "output_type": "display_data"
    }
   ],
   "source": [
    "# factory_price와 price 피처를 scatter plot으로 출력하여, 상관관계를 살펴봅니다.\n",
    "df.plot.scatter(x='factory_price', y='price')"
   ]
  },
  {
   "cell_type": "markdown",
   "metadata": {
    "id": "2CzKlo5RJJtt"
   },
   "source": [
    "-----"
   ]
  },
  {
   "cell_type": "markdown",
   "metadata": {
    "id": "LhLepHGIJJtt"
   },
   "source": [
    "##### 핸드폰 모델 피처 탐색"
   ]
  },
  {
   "cell_type": "code",
   "execution_count": 11,
   "metadata": {
    "colab": {
     "base_uri": "https://localhost:8080/",
     "height": 567
    },
    "executionInfo": {
     "elapsed": 566,
     "status": "ok",
     "timestamp": 1636465947907,
     "user": {
      "displayName": "sumin cho",
      "photoUrl": "https://lh3.googleusercontent.com/a/default-user=s64",
      "userId": "13171594922590166882"
     },
     "user_tz": -540
    },
    "id": "mCZuSY3UJJtu",
    "outputId": "941ce43f-f34f-4ad8-9382-3a6357c3ecdb"
   },
   "outputs": [
    {
     "name": "stdout",
     "output_type": "stream",
     "text": [
      "count     10.000000\n",
      "mean     149.300000\n",
      "std        0.823273\n",
      "min      148.000000\n",
      "25%      149.000000\n",
      "50%      149.500000\n",
      "75%      150.000000\n",
      "max      150.000000\n",
      "Name: model, dtype: float64\n"
     ]
    },
    {
     "data": {
      "text/plain": [
       "{'whiskers': [<matplotlib.lines.Line2D at 0x28c4617e250>,\n",
       "  <matplotlib.lines.Line2D at 0x28c4617ebb0>],\n",
       " 'caps': [<matplotlib.lines.Line2D at 0x28c4617ec40>,\n",
       "  <matplotlib.lines.Line2D at 0x28c460c7be0>],\n",
       " 'boxes': [<matplotlib.lines.Line2D at 0x28c46149430>],\n",
       " 'medians': [<matplotlib.lines.Line2D at 0x28c461dc760>],\n",
       " 'fliers': [<matplotlib.lines.Line2D at 0x28c461e94c0>],\n",
       " 'means': []}"
      ]
     },
     "execution_count": 11,
     "metadata": {},
     "output_type": "execute_result"
    },
    {
     "data": {
      "image/png": "[encoded data removed]",
      "text/plain": [
       "<Figure size 432x288 with 1 Axes>"
      ]
     },
     "metadata": {
      "needs_background": "light"
     },
     "output_type": "display_data"
    }
   ],
   "source": [
    "# 기종별 총 거래 데이터 개수를 집계합니다.\n",
    "model_counts = df['model'].value_counts()\n",
    "print(model_counts.describe())\n",
    "\n",
    "# 기종별 총 거래 데이터 개수를 상자 그림으로 살펴봅니다.\n",
    "plt.boxplot(model_counts)"
   ]
  },
  {
   "cell_type": "markdown",
   "metadata": {
    "id": "g6BjCuZRJJtv"
   },
   "source": [
    "-----"
   ]
  },
  {
   "cell_type": "markdown",
   "metadata": {
    "id": "X-oJ-bt8JJtw"
   },
   "source": [
    "##### 메이커 피처 탐색"
   ]
  },
  {
   "cell_type": "code",
   "execution_count": 12,
   "metadata": {
    "colab": {
     "base_uri": "https://localhost:8080/",
     "height": 603
    },
    "executionInfo": {
     "elapsed": 400,
     "status": "ok",
     "timestamp": 1636466406443,
     "user": {
      "displayName": "sumin cho",
      "photoUrl": "https://lh3.googleusercontent.com/a/default-user=s64",
      "userId": "13171594922590166882"
     },
     "user_tz": -540
    },
    "id": "w1mZXft8JJty",
    "outputId": "b49ff386-965d-4699-dd13-776aa97024d6"
   },
   "outputs": [
    {
     "name": "stdout",
     "output_type": "stream",
     "text": [
      "Nuovo          150\n",
      "Converse       150\n",
      "VANS           150\n",
      "Nike           150\n",
      "New_Balance    150\n",
      "ReeBok         149\n",
      "Adidas         149\n",
      "Puma           149\n",
      "Birkenstock    148\n",
      "hawkins        148\n",
      "Name: maker, dtype: int64\n"
     ]
    },
    {
     "data": {
      "text/plain": [
       "{'whiskers': [<matplotlib.lines.Line2D at 0x28c45bbdaf0>,\n",
       "  <matplotlib.lines.Line2D at 0x28c45bbd2b0>],\n",
       " 'caps': [<matplotlib.lines.Line2D at 0x28c45bc74c0>,\n",
       "  <matplotlib.lines.Line2D at 0x28c45bc7be0>],\n",
       " 'boxes': [<matplotlib.lines.Line2D at 0x28c45bbd700>],\n",
       " 'medians': [<matplotlib.lines.Line2D at 0x28c45bc7460>],\n",
       " 'fliers': [<matplotlib.lines.Line2D at 0x28c45b64ac0>],\n",
       " 'means': []}"
      ]
     },
     "execution_count": 12,
     "metadata": {},
     "output_type": "execute_result"
    },
    {
     "data": {
      "image/png": "[encoded data removed]",
      "text/plain": [
       "<Figure size 432x288 with 1 Axes>"
      ]
     },
     "metadata": {
      "needs_background": "light"
     },
     "output_type": "display_data"
    }
   ],
   "source": [
    "maker_counts = df['maker'].value_counts()\n",
    "print(maker_counts)\n",
    "plt.boxplot(maker_counts)"
   ]
  },
  {
   "cell_type": "markdown",
   "metadata": {
    "id": "SW6RW3jtJJt1"
   },
   "source": [
    "-----"
   ]
  },
  {
   "cell_type": "markdown",
   "metadata": {
    "id": "eICPdSVEJJt1"
   },
   "source": [
    "### [Random forest regressor를 이용한 가격 예측]"
   ]
  },
  {
   "cell_type": "code",
   "execution_count": 13,
   "metadata": {
    "colab": {
     "base_uri": "https://localhost:8080/",
     "height": 257
    },
    "executionInfo": {
     "elapsed": 403,
     "status": "ok",
     "timestamp": 1636465990657,
     "user": {
      "displayName": "sumin cho",
      "photoUrl": "https://lh3.googleusercontent.com/a/default-user=s64",
      "userId": "13171594922590166882"
     },
     "user_tz": -540
    },
    "id": "RVsI7ammJJt2",
    "outputId": "a04a3a45-292b-43b9-9b3f-1a96ed7a521c",
    "scrolled": false
   },
   "outputs": [
    {
     "data": {
      "text/html": [
       "<div>\n",
       "<style scoped>\n",
       "    .dataframe tbody tr th:only-of-type {\n",
       "        vertical-align: middle;\n",
       "    }\n",
       "\n",
       "    .dataframe tbody tr th {\n",
       "        vertical-align: top;\n",
       "    }\n",
       "\n",
       "    .dataframe thead th {\n",
       "        text-align: right;\n",
       "    }\n",
       "</style>\n",
       "<table border=\"1\" class=\"dataframe\">\n",
       "  <thead>\n",
       "    <tr style=\"text-align: right;\">\n",
       "      <th></th>\n",
       "      <th>create_date</th>\n",
       "      <th>text</th>\n",
       "      <th>model</th>\n",
       "      <th>price</th>\n",
       "      <th>factory_price</th>\n",
       "      <th>maker</th>\n",
       "      <th>month</th>\n",
       "    </tr>\n",
       "  </thead>\n",
       "  <tbody>\n",
       "    <tr>\n",
       "      <th>0</th>\n",
       "      <td>2021.11.08. 17:24</td>\n",
       "      <td>나이키 에어맥스97 OG 실버불렛 / 나코탭 새제품 / 275</td>\n",
       "      <td>나이키 에어맥스 97</td>\n",
       "      <td>350000</td>\n",
       "      <td>199000</td>\n",
       "      <td>Nike</td>\n",
       "      <td>2021.11</td>\n",
       "    </tr>\n",
       "    <tr>\n",
       "      <th>1</th>\n",
       "      <td>2021.11.08. 16:45</td>\n",
       "      <td>나이키 에어맥스97 페르시안 바이올렛 미개봉 275 팝니다</td>\n",
       "      <td>나이키 에어맥스 97</td>\n",
       "      <td>125000</td>\n",
       "      <td>199000</td>\n",
       "      <td>Nike</td>\n",
       "      <td>2021.11</td>\n",
       "    </tr>\n",
       "    <tr>\n",
       "      <th>2</th>\n",
       "      <td>2021.11.08. 16:18</td>\n",
       "      <td>나이키에어맥스97 트리플화이트 235</td>\n",
       "      <td>나이키 에어맥스 97</td>\n",
       "      <td>130000</td>\n",
       "      <td>199000</td>\n",
       "      <td>Nike</td>\n",
       "      <td>2021.11</td>\n",
       "    </tr>\n",
       "    <tr>\n",
       "      <th>3</th>\n",
       "      <td>2021.11.08. 16:15</td>\n",
       "      <td>나이키 에어맥스 97 250사이즈</td>\n",
       "      <td>나이키 에어맥스 97</td>\n",
       "      <td>2000</td>\n",
       "      <td>199000</td>\n",
       "      <td>Nike</td>\n",
       "      <td>2021.11</td>\n",
       "    </tr>\n",
       "    <tr>\n",
       "      <th>4</th>\n",
       "      <td>2021.11.08. 16:14</td>\n",
       "      <td>나이키 에어맥스97 핑크크림 250</td>\n",
       "      <td>나이키 에어맥스 97</td>\n",
       "      <td>135000</td>\n",
       "      <td>199000</td>\n",
       "      <td>Nike</td>\n",
       "      <td>2021.11</td>\n",
       "    </tr>\n",
       "  </tbody>\n",
       "</table>\n",
       "</div>"
      ],
      "text/plain": [
       "         create_date                                text        model   price  \\\n",
       "0  2021.11.08. 17:24  나이키 에어맥스97 OG 실버불렛 / 나코탭 새제품 / 275  나이키 에어맥스 97  350000   \n",
       "1  2021.11.08. 16:45    나이키 에어맥스97 페르시안 바이올렛 미개봉 275 팝니다  나이키 에어맥스 97  125000   \n",
       "2  2021.11.08. 16:18                나이키에어맥스97 트리플화이트 235  나이키 에어맥스 97  130000   \n",
       "3  2021.11.08. 16:15                  나이키 에어맥스 97 250사이즈  나이키 에어맥스 97    2000   \n",
       "4  2021.11.08. 16:14                 나이키 에어맥스97 핑크크림 250  나이키 에어맥스 97  135000   \n",
       "\n",
       "   factory_price maker    month  \n",
       "0         199000  Nike  2021.11  \n",
       "1         199000  Nike  2021.11  \n",
       "2         199000  Nike  2021.11  \n",
       "3         199000  Nike  2021.11  \n",
       "4         199000  Nike  2021.11  "
      ]
     },
     "execution_count": 13,
     "metadata": {},
     "output_type": "execute_result"
    }
   ],
   "source": [
    "df.head()"
   ]
  },
  {
   "cell_type": "markdown",
   "metadata": {
    "id": "NJWKi6ysJJt3"
   },
   "source": [
    "-----"
   ]
  },
  {
   "cell_type": "markdown",
   "metadata": {
    "id": "4Wa0UGqWJJt4"
   },
   "source": [
    "##### Random forest 모델 학습"
   ]
  },
  {
   "cell_type": "code",
   "execution_count": 14,
   "metadata": {
    "colab": {
     "base_uri": "https://localhost:8080/",
     "height": 407
    },
    "executionInfo": {
     "elapsed": 17,
     "status": "error",
     "timestamp": 1636465994053,
     "user": {
      "displayName": "sumin cho",
      "photoUrl": "https://lh3.googleusercontent.com/a/default-user=s64",
      "userId": "13171594922590166882"
     },
     "user_tz": -540
    },
    "id": "sR-uUripJJt4",
    "outputId": "e168f33f-9f7b-457a-feda-98169ffc7059"
   },
   "outputs": [
    {
     "name": "stdout",
     "output_type": "stream",
     "text": [
      "MSE train: 43757717362.710, test: 21313556238.076\n",
      "R^2 train: 0.175, test: -0.086\n"
     ]
    }
   ],
   "source": [
    "from sklearn.model_selection import train_test_split\n",
    "from sklearn.feature_extraction import DictVectorizer\n",
    "from sklearn.ensemble import RandomForestRegressor\n",
    "from sklearn.metrics import r2_score\n",
    "from sklearn.metrics import mean_squared_error\n",
    "\n",
    "# 데이터를 학습/테스트용 데이터로 분리합니다.\n",
    "df = df[['price', 'model', 'factory_price', 'maker', 'month']]\n",
    "df = pd.get_dummies(df, columns=['model', 'maker', 'month'])\n",
    "X = df.loc[:, df.columns != 'price']\n",
    "y = df['price']\n",
    "X_train, X_test, y_train, y_test = train_test_split(X, y, test_size=0.3, random_state=0)\n",
    "\n",
    "# 랜덤 포레스트 모델을 학습합니다.\n",
    "forest = RandomForestRegressor(n_estimators=1000,\n",
    "                               criterion='mse')\n",
    "forest.fit(X_train, y_train)\n",
    "y_train_pred = forest.predict(X_train)\n",
    "y_test_pred = forest.predict(X_test)\n",
    "\n",
    "# 학습한 모델을 평가합니다.\n",
    "print('MSE train: %.3f, test: %.3f' % (\n",
    "        mean_squared_error(y_train, y_train_pred),\n",
    "        mean_squared_error(y_test, y_test_pred)))\n",
    "print('R^2 train: %.3f, test: %.3f' % (\n",
    "        r2_score(y_train, y_train_pred),\n",
    "        r2_score(y_test, y_test_pred)))"
   ]
  },
  {
   "cell_type": "markdown",
   "metadata": {
    "id": "y8jRuagYJJt5"
   },
   "source": [
    "##### 피처 중요도 분석"
   ]
  },
  {
   "cell_type": "code",
   "execution_count": 15,
   "metadata": {
    "executionInfo": {
     "elapsed": 25,
     "status": "aborted",
     "timestamp": 1636465964883,
     "user": {
      "displayName": "sumin cho",
      "photoUrl": "https://lh3.googleusercontent.com/a/default-user=s64",
      "userId": "13171594922590166882"
     },
     "user_tz": -540
    },
    "id": "vIG2fyOwJJt6"
   },
   "outputs": [
    {
     "data": {
      "text/plain": [
       "[('month_2021.07', 0.38318322317423337),\n",
       " ('maker_Nuovo', 0.10999362225433175),\n",
       " ('model_누오보 바베트', 0.09715267991341131),\n",
       " ('month_2021.04', 0.09096724590920804),\n",
       " ('factory_price', 0.06952259117905914),\n",
       " ('month_2021.10', 0.048296694247278),\n",
       " ('maker_New_Balance', 0.03598677080411543),\n",
       " ('model_뉴발란스 문빔', 0.03454015835677723),\n",
       " ('month_2021.11', 0.027362679721446244),\n",
       " ('model_나이키 에어맥스 97', 0.026752842369263556)]"
      ]
     },
     "execution_count": 15,
     "metadata": {},
     "output_type": "execute_result"
    },
    {
     "data": {
      "image/png": "[encoded data removed]",
      "text/plain": [
       "<Figure size 432x288 with 1 Axes>"
      ]
     },
     "metadata": {
      "needs_background": "light"
     },
     "output_type": "display_data"
    }
   ],
   "source": [
    "# 학습한 모델의 피처 중요도를 그래프로 살펴봅니다.\n",
    "importances = forest.feature_importances_\n",
    "indices = np.argsort(importances)[::-1]\n",
    "plt.bar(range(X.shape[1]), importances[indices])\n",
    "\n",
    "# 학습한 모델의 피처 중요도를 출력합니다.\n",
    "feat_labels = X.columns.tolist()\n",
    "feature = list(zip(feat_labels, forest.feature_importances_))\n",
    "sorted(feature, key=lambda tup: tup[1], reverse=True)[:10]"
   ]
  },
  {
   "cell_type": "code",
   "execution_count": 16,
   "metadata": {
    "code_folding": [],
    "executionInfo": {
     "elapsed": 30,
     "status": "aborted",
     "timestamp": 1636465964888,
     "user": {
      "displayName": "sumin cho",
      "photoUrl": "https://lh3.googleusercontent.com/a/default-user=s64",
      "userId": "13171594922590166882"
     },
     "user_tz": -540
    },
    "id": "KZZQkWpaJJt7"
   },
   "outputs": [
    {
     "name": "stdout",
     "output_type": "stream",
     "text": [
      "('month_2021.07', 0.38318322317423337)\n",
      "('month_2021.04', 0.09096724590920804)\n",
      "('month_2021.10', 0.048296694247278)\n",
      "('month_2021.11', 0.027362679721446244)\n",
      "('month_2021.09', 0.0066222169308819126)\n",
      "('month_2021.08', 0.005831561544173192)\n",
      "('month_2021.06', 0.0009581241967350925)\n",
      "('month_2021.05', 0.0006086334513472815)\n",
      "('month_2021.03', 0.0004082769580595472)\n",
      "('month_2020.07', 0.000163354724150146)\n",
      "('month_2020.11', 0.00016203408599837045)\n",
      "('month_2020.12', 0.0001331554670562857)\n",
      "('month_2021.02', 0.00011685308729327913)\n",
      "('month_2021.01', 8.177577133059417e-05)\n",
      "('month_2020.09', 7.405284302866627e-05)\n",
      "('month_2020.08', 3.051184519452121e-05)\n",
      "('month_2020.10', 2.9538151449254305e-05)\n"
     ]
    }
   ],
   "source": [
    "# month 피처 중, 영향력이 높은순으로 정렬하여 출력합니다.\n",
    "for sorted_feature in sorted(feature, key=lambda tup: tup[1], reverse=True):\n",
    "    if \"month\" in sorted_feature[0]: \n",
    "        print(sorted_feature)"
   ]
  },
  {
   "cell_type": "markdown",
   "metadata": {
    "id": "14gpxD1yJJt7"
   },
   "source": [
    "-----"
   ]
  },
  {
   "cell_type": "markdown",
   "metadata": {
    "id": "9TXv-fC2JJt8"
   },
   "source": [
    "##### 예측 결과 scatter plot"
   ]
  },
  {
   "cell_type": "code",
   "execution_count": 17,
   "metadata": {
    "executionInfo": {
     "elapsed": 32,
     "status": "aborted",
     "timestamp": 1636465964891,
     "user": {
      "displayName": "sumin cho",
      "photoUrl": "https://lh3.googleusercontent.com/a/default-user=s64",
      "userId": "13171594922590166882"
     },
     "user_tz": -540
    },
    "id": "HaGQsFoHJJt9"
   },
   "outputs": [
    {
     "data": {
      "text/plain": [
       "<matplotlib.collections.PathCollection at 0x28c479b9340>"
      ]
     },
     "execution_count": 17,
     "metadata": {},
     "output_type": "execute_result"
    },
    {
     "data": {
      "image/png": "[encoded data removed]",
      "text/plain": [
       "<Figure size 432x288 with 1 Axes>"
      ]
     },
     "metadata": {
      "needs_background": "light"
     },
     "output_type": "display_data"
    }
   ],
   "source": [
    "plt.scatter(y_test.values, y_test_pred)"
   ]
  },
  {
   "cell_type": "markdown",
   "metadata": {
    "id": "MzWLDpZ1JJt9"
   },
   "source": [
    "-----"
   ]
  },
  {
   "cell_type": "markdown",
   "metadata": {
    "id": "4ck5JpUJJJt-"
   },
   "source": [
    "# <Step2. 피처 엔지니어링> : 예측 모델 개선"
   ]
  },
  {
   "cell_type": "markdown",
   "metadata": {
    "id": "Cp3MXQ9dJJt-"
   },
   "source": [
    "### [기존 feature의 가공]"
   ]
  },
  {
   "cell_type": "code",
   "execution_count": 18,
   "metadata": {
    "id": "IGqVAYlEJJt_"
   },
   "outputs": [],
   "source": [
    "# 데이터를 다시 불러옵니다.\n",
    "df = pd.read_csv(\"중고나라 2021-11-08나이키 에어맥스 97 매물_가격수정.csv\")"
   ]
  },
  {
   "cell_type": "markdown",
   "metadata": {
    "id": "WJez3BI7JJt_"
   },
   "source": [
    "##### create_date로 시간점수 생성하기"
   ]
  },
  {
   "cell_type": "code",
   "execution_count": 19,
   "metadata": {
    "colab": {
     "base_uri": "https://localhost:8080/"
    },
    "executionInfo": {
     "elapsed": 5,
     "status": "ok",
     "timestamp": 1636361245771,
     "user": {
      "displayName": "sumin cho",
      "photoUrl": "https://lh3.googleusercontent.com/a/default-user=s64",
      "userId": "13171594922590166882"
     },
     "user_tz": -540
    },
    "id": "ctfUSHWRJJuA",
    "outputId": "3cd946f7-6916-4276-8fb1-deb72702df7e"
   },
   "outputs": [
    {
     "name": "stdout",
     "output_type": "stream",
     "text": [
      "0    1.636297e+09\n",
      "1    1.636297e+09\n",
      "2    1.636297e+09\n",
      "3    1.636297e+09\n",
      "4    1.636297e+09\n",
      "5    1.636297e+09\n",
      "6    1.636297e+09\n",
      "7    1.636297e+09\n",
      "8    1.636297e+09\n",
      "9    1.636297e+09\n",
      "Name: create_unixtime, dtype: float64\n"
     ]
    }
   ],
   "source": [
    "from datetime import datetime\n",
    "import time\n",
    "\n",
    "# create_date 피처를 수치적으로 계산하기 위해, unixtime으로 변환하는 함수를 정의합니다.\n",
    "def date_to_unixtime(date_str):\n",
    "    timestamp = time.mktime(datetime.strptime(date_str, '%Y.%m.%d').timetuple())\n",
    "    return timestamp\n",
    "\n",
    "# create_date 피처를 ‘현재와 얼마나 가까운 데이터인 지’ 판단하기 위한 점수를 생성합니다. 먼저 unixtime으로 데이터를 변환합니다.\n",
    "df['create_unixtime'] = df['create_date'].apply(lambda x: date_to_unixtime(x[:10]))\n",
    "print(df['create_unixtime'][:10])"
   ]
  },
  {
   "cell_type": "code",
   "execution_count": 20,
   "metadata": {
    "colab": {
     "base_uri": "https://localhost:8080/",
     "height": 204
    },
    "executionInfo": {
     "elapsed": 1090,
     "status": "ok",
     "timestamp": 1636361249025,
     "user": {
      "displayName": "sumin cho",
      "photoUrl": "https://lh3.googleusercontent.com/a/default-user=s64",
      "userId": "13171594922590166882"
     },
     "user_tz": -540
    },
    "id": "UAw8s1szJJuB",
    "outputId": "a2b11a7f-9fe0-4331-a2e7-4fc2496ed322"
   },
   "outputs": [
    {
     "data": {
      "text/html": [
       "<div>\n",
       "<style scoped>\n",
       "    .dataframe tbody tr th:only-of-type {\n",
       "        vertical-align: middle;\n",
       "    }\n",
       "\n",
       "    .dataframe tbody tr th {\n",
       "        vertical-align: top;\n",
       "    }\n",
       "\n",
       "    .dataframe thead th {\n",
       "        text-align: right;\n",
       "    }\n",
       "</style>\n",
       "<table border=\"1\" class=\"dataframe\">\n",
       "  <thead>\n",
       "    <tr style=\"text-align: right;\">\n",
       "      <th></th>\n",
       "      <th>create_date</th>\n",
       "      <th>create_unixtime</th>\n",
       "      <th>create_time_score</th>\n",
       "    </tr>\n",
       "  </thead>\n",
       "  <tbody>\n",
       "    <tr>\n",
       "      <th>0</th>\n",
       "      <td>2021.11.08. 17:24</td>\n",
       "      <td>1.636297e+09</td>\n",
       "      <td>1.0</td>\n",
       "    </tr>\n",
       "    <tr>\n",
       "      <th>1</th>\n",
       "      <td>2021.11.08. 16:45</td>\n",
       "      <td>1.636297e+09</td>\n",
       "      <td>1.0</td>\n",
       "    </tr>\n",
       "    <tr>\n",
       "      <th>2</th>\n",
       "      <td>2021.11.08. 16:18</td>\n",
       "      <td>1.636297e+09</td>\n",
       "      <td>1.0</td>\n",
       "    </tr>\n",
       "    <tr>\n",
       "      <th>3</th>\n",
       "      <td>2021.11.08. 16:15</td>\n",
       "      <td>1.636297e+09</td>\n",
       "      <td>1.0</td>\n",
       "    </tr>\n",
       "    <tr>\n",
       "      <th>4</th>\n",
       "      <td>2021.11.08. 16:14</td>\n",
       "      <td>1.636297e+09</td>\n",
       "      <td>1.0</td>\n",
       "    </tr>\n",
       "  </tbody>\n",
       "</table>\n",
       "</div>"
      ],
      "text/plain": [
       "         create_date  create_unixtime  create_time_score\n",
       "0  2021.11.08. 17:24     1.636297e+09                1.0\n",
       "1  2021.11.08. 16:45     1.636297e+09                1.0\n",
       "2  2021.11.08. 16:18     1.636297e+09                1.0\n",
       "3  2021.11.08. 16:15     1.636297e+09                1.0\n",
       "4  2021.11.08. 16:14     1.636297e+09                1.0"
      ]
     },
     "execution_count": 20,
     "metadata": {},
     "output_type": "execute_result"
    }
   ],
   "source": [
    "# 변환된 unixtime에 min-max 스케일링을 적용합니다.\n",
    "df['create_time_score'] = (df['create_unixtime'] - df['create_unixtime'].min()) / \\\n",
    "                          (df['create_unixtime'].max() - df['create_unixtime'].min())\n",
    "df[['create_date', 'create_unixtime', 'create_time_score']].head()"
   ]
  },
  {
   "cell_type": "markdown",
   "metadata": {
    "id": "JbyW4OsSJJuC"
   },
   "source": [
    "-----"
   ]
  },
  {
   "cell_type": "markdown",
   "metadata": {
    "id": "v7W7Ne68JJuC"
   },
   "source": [
    "##### phone_model 피처 분리"
   ]
  },
  {
   "cell_type": "code",
   "execution_count": 21,
   "metadata": {
    "colab": {
     "base_uri": "https://localhost:8080/",
     "height": 204
    },
    "executionInfo": {
     "elapsed": 5,
     "status": "ok",
     "timestamp": 1636361249556,
     "user": {
      "displayName": "sumin cho",
      "photoUrl": "https://lh3.googleusercontent.com/a/default-user=s64",
      "userId": "13171594922590166882"
     },
     "user_tz": -540
    },
    "id": "C4WbWWxHJJuD",
    "outputId": "e2be93ac-332d-41d9-e089-8c273578abae"
   },
   "outputs": [],
   "source": [
    "# # phone_model 피처에서 기종 세부명(phone_model_detail) 피처를 추출합니다.\n",
    "# df['phone_model_detail'] = df['phone_model'].apply(lambda x: ' '.join(x.split(\" \")[:-1]))\n",
    "# df[[ 'phone_model_detail']].head()"
   ]
  },
  {
   "cell_type": "code",
   "execution_count": 22,
   "metadata": {
    "colab": {
     "base_uri": "https://localhost:8080/",
     "height": 535
    },
    "executionInfo": {
     "elapsed": 523,
     "status": "ok",
     "timestamp": 1636361252061,
     "user": {
      "displayName": "sumin cho",
      "photoUrl": "https://lh3.googleusercontent.com/a/default-user=s64",
      "userId": "13171594922590166882"
     },
     "user_tz": -540
    },
    "id": "pUyKm6b-JJuE",
    "outputId": "a34a1203-ff3b-4ea2-a4bc-3a8aea2e0875"
   },
   "outputs": [],
   "source": [
    "# # phone_model 피처의 기종별 거래 데이터 개수를 집계합니다.\n",
    "# model_counts = df['phone_model'].value_counts()\n",
    "\n",
    "# # phone_model_detail 피처의 기종별 거래 데이터 개수를 집계합니다.\n",
    "# model_detail_counts = df['phone_model_detail'].value_counts()\n",
    "# data = [model_counts, model_detail_counts]\n",
    "\n",
    "# # 두 피처간의 기종별 거래 데이터 개수를 비교합니다.\n",
    "# mpl_fig = plt.figure()\n",
    "# ax = mpl_fig.add_subplot(111)\n",
    "# ax.boxplot(data)"
   ]
  },
  {
   "cell_type": "markdown",
   "metadata": {
    "id": "GrCTnXHCJJuF"
   },
   "source": [
    "-----"
   ]
  },
  {
   "cell_type": "markdown",
   "metadata": {
    "id": "z6-YLxtKJJuF"
   },
   "source": [
    "##### phone_model 관련 딕셔너리 생성"
   ]
  },
  {
   "cell_type": "code",
   "execution_count": 23,
   "metadata": {
    "colab": {
     "base_uri": "https://localhost:8080/"
    },
    "executionInfo": {
     "elapsed": 730,
     "status": "ok",
     "timestamp": 1636361255091,
     "user": {
      "displayName": "sumin cho",
      "photoUrl": "https://lh3.googleusercontent.com/a/default-user=s64",
      "userId": "13171594922590166882"
     },
     "user_tz": -540
    },
    "id": "rrxF9YyrJJuG",
    "outputId": "3223b12f-88eb-4b22-9a6c-81cf51f86c9e",
    "scrolled": true
   },
   "outputs": [
    {
     "name": "stdout",
     "output_type": "stream",
     "text": [
      "{'나이키 에어맥스 97': 199000, '누오보 바베트': 59000 ...\n"
     ]
    }
   ],
   "source": [
    "# 기종명 으로 출고가를 찾기 위한 딕셔너리를 생성합니다.\n",
    "model_to_factory_price_dict = {}\n",
    "for index, row in df.iterrows():\n",
    "    model_concat = (row['model'])\n",
    "    if model_concat in model_to_factory_price_dict:\n",
    "        pass\n",
    "    else:\n",
    "        model_to_factory_price_dict[model_concat] = row['factory_price']\n",
    "print(str(model_to_factory_price_dict)[:40], \"...\")"
   ]
  },
  {
   "cell_type": "markdown",
   "metadata": {
    "id": "DEC_irjbJJuH"
   },
   "source": [
    "-----"
   ]
  },
  {
   "cell_type": "markdown",
   "metadata": {
    "id": "OfMBjoXSJJuW"
   },
   "source": [
    "# <Step3. 예측> : 중고폰 거래가 예측"
   ]
  },
  {
   "cell_type": "markdown",
   "metadata": {
    "id": "iJ5wkzRLJJuX"
   },
   "source": [
    "### [Random forest regressor 재학습]"
   ]
  },
  {
   "cell_type": "code",
   "execution_count": 24,
   "metadata": {
    "colab": {
     "base_uri": "https://localhost:8080/",
     "height": 481
    },
    "executionInfo": {
     "elapsed": 9735,
     "status": "ok",
     "timestamp": 1636361265413,
     "user": {
      "displayName": "sumin cho",
      "photoUrl": "https://lh3.googleusercontent.com/a/default-user=s64",
      "userId": "13171594922590166882"
     },
     "user_tz": -540
    },
    "id": "rc99sQ-aJJuX",
    "outputId": "2d763594-827d-4456-f27e-7c450d6a4908"
   },
   "outputs": [
    {
     "name": "stdout",
     "output_type": "stream",
     "text": [
      "MSE train: 18761557779.561, test: 23899303951.408\n",
      "R^2 train: 0.646, test: -0.218\n"
     ]
    },
    {
     "data": {
      "text/plain": [
       "[('create_time_score', 0.8957692512645253),\n",
       " ('maker_Nuovo', 0.023587753312134387),\n",
       " ('model_누오보 바베트', 0.02341840020471349),\n",
       " ('factory_price', 0.011478209114646833),\n",
       " ('maker_New_Balance', 0.00962097599983621),\n",
       " ('model_뉴발란스 문빔', 0.008964763768047024),\n",
       " ('model_나이키 에어맥스 97', 0.007599189413791284),\n",
       " ('maker_Nike', 0.0066950770195468925),\n",
       " ('maker_Birkenstock', 0.004402605081253634),\n",
       " ('model_버켄스탁 아리조나', 0.004192037896665175)]"
      ]
     },
     "execution_count": 24,
     "metadata": {},
     "output_type": "execute_result"
    },
    {
     "data": {
      "image/png": "[encoded data removed]",
      "text/plain": [
       "<Figure size 432x288 with 1 Axes>"
      ]
     },
     "metadata": {
      "needs_background": "light"
     },
     "output_type": "display_data"
    }
   ],
   "source": [
    "# 랜덤 포레스트 모델 학습을 위한 데이터를 준비합니다.\n",
    "df = df[['price', 'factory_price', 'maker', 'create_time_score', 'model']]\n",
    "df = pd.get_dummies(df, columns=['maker', 'model',])\n",
    "\n",
    "# 학습/테스트 데이터를 분리합니다.\n",
    "X = df.loc[:, df.columns != 'price']\n",
    "y = df['price']\n",
    "X_train, X_test, y_train, y_test = train_test_split(X, y, test_size=0.3, random_state=0)\n",
    "\n",
    "# 랜덤 포레스트 모델을 학습하고 평가합니다.\n",
    "forest = RandomForestRegressor(n_estimators=1000,\n",
    "                               criterion='mse')\n",
    "forest.fit(X_train, y_train)\n",
    "y_train_pred = forest.predict(X_train)\n",
    "y_test_pred = forest.predict(X_test)\n",
    "print('MSE train: %.3f, test: %.3f' % (\n",
    "        mean_squared_error(y_train, y_train_pred),\n",
    "        mean_squared_error(y_test, y_test_pred)))\n",
    "print('R^2 train: %.3f, test: %.3f' % (\n",
    "        r2_score(y_train, y_train_pred),\n",
    "        r2_score(y_test, y_test_pred)))\n",
    "\n",
    "# 피처 중요도 plot을 출력합니다.\n",
    "importances = forest.feature_importances_\n",
    "plt.plot(importances, \"o\")\n",
    "\n",
    "# 피처 중요도를 print로 출력합니다.\n",
    "feat_labels = X.columns.tolist()\n",
    "feature = list(zip(feat_labels, forest.feature_importances_))\n",
    "sorted(feature, key=lambda tup: tup[1], reverse=True)[:10]"
   ]
  },
  {
   "cell_type": "markdown",
   "metadata": {
    "id": "H2I1XnICJJuY"
   },
   "source": [
    "------"
   ]
  },
  {
   "cell_type": "markdown",
   "metadata": {
    "id": "rmmnhKRNJJuZ"
   },
   "source": [
    "##### feature-index 관련 딕셔너리 생성"
   ]
  },
  {
   "cell_type": "code",
   "execution_count": 25,
   "metadata": {
    "colab": {
     "base_uri": "https://localhost:8080/"
    },
    "executionInfo": {
     "elapsed": 476,
     "status": "ok",
     "timestamp": 1636361281145,
     "user": {
      "displayName": "sumin cho",
      "photoUrl": "https://lh3.googleusercontent.com/a/default-user=s64",
      "userId": "13171594922590166882"
     },
     "user_tz": -540
    },
    "id": "5wKWgpp6JJuZ",
    "outputId": "1eba70de-9c1b-4002-a754-fbfadfdf2daf"
   },
   "outputs": [
    {
     "name": "stdout",
     "output_type": "stream",
     "text": [
      "{'factory_price': 0, 'create_time_score' ...\n"
     ]
    }
   ],
   "source": [
    "# 프로그램에서 입력값에 대한 피처를 찾기 위한 딕셔너리를 생성합니다.\n",
    "col_to_index_dict = {}\n",
    "for idx, col in enumerate(df.columns[1:]):\n",
    "    col_to_index_dict[col] = idx\n",
    "    \n",
    "print(str(col_to_index_dict)[:40], \"...\")"
   ]
  },
  {
   "cell_type": "markdown",
   "metadata": {
    "id": "rcdPkTq_JJua"
   },
   "source": [
    "-----"
   ]
  },
  {
   "cell_type": "markdown",
   "metadata": {
    "id": "uAXNUlc0JJub"
   },
   "source": [
    "##### 예측 결과 scatter plot"
   ]
  },
  {
   "cell_type": "code",
   "execution_count": 26,
   "metadata": {
    "colab": {
     "base_uri": "https://localhost:8080/",
     "height": 307
    },
    "executionInfo": {
     "elapsed": 10,
     "status": "ok",
     "timestamp": 1636361283229,
     "user": {
      "displayName": "sumin cho",
      "photoUrl": "https://lh3.googleusercontent.com/a/default-user=s64",
      "userId": "13171594922590166882"
     },
     "user_tz": -540
    },
    "id": "Ci7KWitjJJub",
    "outputId": "1f5854bf-a36e-4857-c8db-22ed3ee8e135"
   },
   "outputs": [
    {
     "data": {
      "text/plain": [
       "<matplotlib.collections.PathCollection at 0x28c46213850>"
      ]
     },
     "execution_count": 26,
     "metadata": {},
     "output_type": "execute_result"
    },
    {
     "data": {
      "image/png": "[encoded data removed]",
      "text/plain": [
       "<Figure size 432x288 with 1 Axes>"
      ]
     },
     "metadata": {
      "needs_background": "light"
     },
     "output_type": "display_data"
    }
   ],
   "source": [
    "# 테스트 데이터의 y값과, 예측된 y값을 scatter plot을 활용하여 상관관계를 살펴봅니다.\n",
    "plt.scatter(y_test.values, y_test_pred)"
   ]
  },
  {
   "cell_type": "markdown",
   "metadata": {
    "id": "UWiUNap-JJuc"
   },
   "source": [
    "-----"
   ]
  },
  {
   "cell_type": "markdown",
   "metadata": {
    "id": "GenuxC0uJJuc"
   },
   "source": [
    "### [최적의 모델 파라미터 찾기]"
   ]
  },
  {
   "cell_type": "code",
   "execution_count": 27,
   "metadata": {
    "colab": {
     "base_uri": "https://localhost:8080/"
    },
    "executionInfo": {
     "elapsed": 1489363,
     "status": "ok",
     "timestamp": 1636362776011,
     "user": {
      "displayName": "sumin cho",
      "photoUrl": "https://lh3.googleusercontent.com/a/default-user=s64",
      "userId": "13171594922590166882"
     },
     "user_tz": -540
    },
    "id": "3NfxKl63JJud",
    "outputId": "5e90f0d2-df85-4557-e00e-31d01288d821"
   },
   "outputs": [
    {
     "name": "stdout",
     "output_type": "stream",
     "text": [
      "Fitting 3 folds for each of 100 candidates, totalling 300 fits\n"
     ]
    },
    {
     "name": "stderr",
     "output_type": "stream",
     "text": [
      "[Parallel(n_jobs=-1)]: Using backend LokyBackend with 4 concurrent workers.\n",
      "[Parallel(n_jobs=-1)]: Done  33 tasks      | elapsed:   44.3s\n",
      "[Parallel(n_jobs=-1)]: Done 154 tasks      | elapsed:  2.5min\n",
      "[Parallel(n_jobs=-1)]: Done 300 out of 300 | elapsed:  5.9min finished\n"
     ]
    },
    {
     "data": {
      "text/plain": [
       "RandomizedSearchCV(cv=3, estimator=RandomForestRegressor(), n_iter=100,\n",
       "                   n_jobs=-1,\n",
       "                   param_distributions={'bootstrap': [True, False],\n",
       "                                        'max_depth': [10, 20, 30, 40, 50, 60,\n",
       "                                                      70, 80, 90, 100, 110,\n",
       "                                                      None],\n",
       "                                        'max_features': ['auto', 'sqrt'],\n",
       "                                        'n_estimators': [200, 400, 600, 800,\n",
       "                                                         1000, 1200, 1400, 1600,\n",
       "                                                         1800, 2000]},\n",
       "                   random_state=42, verbose=2)"
      ]
     },
     "execution_count": 27,
     "metadata": {},
     "output_type": "execute_result"
    }
   ],
   "source": [
    "from sklearn.model_selection import RandomizedSearchCV\n",
    "\n",
    "# Randomized Search로 찾아낼 파라미터 후보군을 각각 리스트로 선정합니다.\n",
    "n_estimators = [int(x) for x in np.linspace(start = 200, stop = 2000, num = 10)]\n",
    "max_features = ['auto', 'sqrt']\n",
    "max_depth = [int(x) for x in np.linspace(10, 110, num = 11)]\n",
    "max_depth.append(None)\n",
    "bootstrap = [True, False]\n",
    "\n",
    "# RandomizedSearchCV 오브젝트를 생성하여 모델을 정의합니다.\n",
    "random_grid = {'n_estimators': n_estimators,\n",
    "               'max_features': max_features,\n",
    "               'max_depth': max_depth,\n",
    "               'bootstrap': bootstrap}\n",
    "forest = RandomForestRegressor()\n",
    "optimal_forest = RandomizedSearchCV(estimator = forest, \n",
    "                                    param_distributions = random_grid, \n",
    "                                    n_iter = 100, \n",
    "                                    cv = 3, \n",
    "                                    verbose=2,\n",
    "                                    random_state=42, \n",
    "                                    n_jobs = -1)\n",
    "\n",
    "# RandomizedSearchCV 모델을 학습합니다.\n",
    "X = df.loc[:, df.columns != 'price']\n",
    "y = df['price']\n",
    "optimal_forest.fit(X, y)"
   ]
  },
  {
   "cell_type": "markdown",
   "metadata": {
    "id": "bazm6sHEJJue"
   },
   "source": [
    "-----"
   ]
  },
  {
   "cell_type": "markdown",
   "metadata": {
    "id": "FAkFEvCGJJue"
   },
   "source": [
    "##### 최적 파라미터 출력"
   ]
  },
  {
   "cell_type": "code",
   "execution_count": 28,
   "metadata": {
    "colab": {
     "base_uri": "https://localhost:8080/"
    },
    "executionInfo": {
     "elapsed": 45,
     "status": "ok",
     "timestamp": 1636362776014,
     "user": {
      "displayName": "sumin cho",
      "photoUrl": "https://lh3.googleusercontent.com/a/default-user=s64",
      "userId": "13171594922590166882"
     },
     "user_tz": -540
    },
    "id": "wPBren2bJJuf",
    "outputId": "f1a87033-828a-4acf-8d43-7b8f357bd536"
   },
   "outputs": [
    {
     "data": {
      "text/plain": [
       "{'n_estimators': 200,\n",
       " 'max_features': 'sqrt',\n",
       " 'max_depth': 80,\n",
       " 'bootstrap': False}"
      ]
     },
     "execution_count": 28,
     "metadata": {},
     "output_type": "execute_result"
    }
   ],
   "source": [
    "# 앞서 선정한 파라미터 후보군 중에서 가장 좋은 결과를 보인 파라미터의 조합을 출력합니다.\n",
    "optimal_forest.best_params_"
   ]
  },
  {
   "cell_type": "markdown",
   "metadata": {
    "id": "lQSpc3GVJJuf"
   },
   "source": [
    "-----"
   ]
  },
  {
   "cell_type": "markdown",
   "metadata": {
    "id": "8Mz4EdyNJJug"
   },
   "source": [
    "##### 최적 모델 학습 결과"
   ]
  },
  {
   "cell_type": "code",
   "execution_count": 29,
   "metadata": {
    "colab": {
     "base_uri": "https://localhost:8080/",
     "height": 481
    },
    "executionInfo": {
     "elapsed": 1563,
     "status": "ok",
     "timestamp": 1636362777553,
     "user": {
      "displayName": "sumin cho",
      "photoUrl": "https://lh3.googleusercontent.com/a/default-user=s64",
      "userId": "13171594922590166882"
     },
     "user_tz": -540
    },
    "id": "wjRI-5Z5JJug",
    "outputId": "aae9221d-d858-45cc-b550-651a1092fa00"
   },
   "outputs": [
    {
     "name": "stdout",
     "output_type": "stream",
     "text": [
      "MSE train: 17675068278.982, test: 6212981672.534\n",
      "R^2 train: 0.667, test: 0.683\n"
     ]
    },
    {
     "data": {
      "text/plain": [
       "[('create_time_score', 0.8935805490419163),\n",
       " ('maker_Nuovo', 0.025028618206827415),\n",
       " ('model_누오보 바베트', 0.0245069159518323),\n",
       " ('factory_price', 0.01466965940054208),\n",
       " ('model_뉴발란스 문빔', 0.007960977205944336),\n",
       " ('maker_New_Balance', 0.006855212894212862),\n",
       " ('maker_Nike', 0.005752278862893307),\n",
       " ('model_나이키 에어맥스 97', 0.005696369048351883),\n",
       " ('model_리복 로얄 하이페리움 2', 0.002305510512693136),\n",
       " ('maker_Birkenstock', 0.002270370556239197)]"
      ]
     },
     "execution_count": 29,
     "metadata": {},
     "output_type": "execute_result"
    },
    {
     "data": {
      "image/png": "[encoded data removed]",
      "text/plain": [
       "<Figure size 432x288 with 1 Axes>"
      ]
     },
     "metadata": {
      "needs_background": "light"
     },
     "output_type": "display_data"
    }
   ],
   "source": [
    "# 최적의 파라미터를 적용한 모델로 중고폰의 가격을 예측하고 평가합니다.\n",
    "y_train_pred = optimal_forest.predict(X_train)\n",
    "y_test_pred = optimal_forest.predict(X_test)\n",
    "print('MSE train: %.3f, test: %.3f' % (\n",
    "        mean_squared_error(y_train, y_train_pred),\n",
    "        mean_squared_error(y_test, y_test_pred)))\n",
    "print('R^2 train: %.3f, test: %.3f' % (\n",
    "        r2_score(y_train, y_train_pred),\n",
    "        r2_score(y_test, y_test_pred)))\n",
    "\n",
    "# 가격 예측 모델의 피처 중요도 plot을 출력합니다.\n",
    "importances = optimal_forest.best_estimator_.feature_importances_\n",
    "indices = np.argsort(importances)[::-1]\n",
    "plt.bar(range(X.shape[1]), importances[indices])\n",
    "\n",
    "# 가격 예측 모델의 피처 중요도를 출력합니다.\n",
    "feat_labels = X.columns.tolist()\n",
    "feature = list(zip(feat_labels, optimal_forest.best_estimator_.feature_importances_))\n",
    "sorted(feature, key=lambda tup: tup[1], reverse=True)[:10]"
   ]
  },
  {
   "cell_type": "markdown",
   "metadata": {
    "id": "Yt66wr5tJJul"
   },
   "source": [
    "-----"
   ]
  },
  {
   "cell_type": "markdown",
   "metadata": {
    "id": "8Hw1MTk9JJum"
   },
   "source": [
    "##### 예측 결과 scatter plot"
   ]
  },
  {
   "cell_type": "code",
   "execution_count": 30,
   "metadata": {
    "colab": {
     "base_uri": "https://localhost:8080/",
     "height": 307
    },
    "executionInfo": {
     "elapsed": 51,
     "status": "ok",
     "timestamp": 1636362777556,
     "user": {
      "displayName": "sumin cho",
      "photoUrl": "https://lh3.googleusercontent.com/a/default-user=s64",
      "userId": "13171594922590166882"
     },
     "user_tz": -540
    },
    "id": "WJft_R2BJJum",
    "outputId": "8b5f51cc-3e3f-47bd-bfc3-98c6b5f8f333"
   },
   "outputs": [
    {
     "data": {
      "text/plain": [
       "<matplotlib.collections.PathCollection at 0x28c47a9b2e0>"
      ]
     },
     "execution_count": 30,
     "metadata": {},
     "output_type": "execute_result"
    },
    {
     "data": {
      "image/png": "[encoded data removed]",
      "text/plain": [
       "<Figure size 432x288 with 1 Axes>"
      ]
     },
     "metadata": {
      "needs_background": "light"
     },
     "output_type": "display_data"
    }
   ],
   "source": [
    "# 테스트 데이터의 y값과, 예측된 y값을 scatter plot을 활용하여 상관관계를 살펴봅니다.\n",
    "plt.scatter(y_test.values, y_test_pred)"
   ]
  },
  {
   "cell_type": "markdown",
   "metadata": {
    "id": "Ym3SviSXJJun"
   },
   "source": [
    "-----"
   ]
  },
  {
   "cell_type": "markdown",
   "metadata": {
    "id": "6I_lxqP7JJuo"
   },
   "source": [
    "# <Step4. 프로토타입>"
   ]
  },
  {
   "cell_type": "markdown",
   "metadata": {
    "id": "fW2nXm4FJJuo"
   },
   "source": [
    "### [재사용을 위한 파일 저장]"
   ]
  },
  {
   "cell_type": "code",
   "execution_count": 31,
   "metadata": {
    "colab": {
     "base_uri": "https://localhost:8080/",
     "height": 244
    },
    "executionInfo": {
     "elapsed": 630,
     "status": "error",
     "timestamp": 1636357558448,
     "user": {
      "displayName": "sumin cho",
      "photoUrl": "https://lh3.googleusercontent.com/a/default-user=s64",
      "userId": "13171594922590166882"
     },
     "user_tz": -540
    },
    "id": "0Rmyt7hPJJup",
    "outputId": "144d1b87-b2c2-4da3-deb3-26d0e707850f"
   },
   "outputs": [
    {
     "data": {
      "text/plain": [
       "['./pkl/rf_regressor.pickle']"
      ]
     },
     "execution_count": 31,
     "metadata": {},
     "output_type": "execute_result"
    }
   ],
   "source": [
    "import joblib\n",
    "import pickle\n",
    "\n",
    "# 모델 예측을 위한 중간 오브젝트들을 각각 파일로 저장합니다.\n",
    "with open('./pkl/model_to_factory_price_dict.pickle', 'wb') as f:\n",
    "    pickle.dump(model_to_factory_price_dict, f, pickle.HIGHEST_PROTOCOL)\n",
    "    \n",
    "with open('./pkl/col_to_index_dict.pickle', 'wb') as f:\n",
    "    pickle.dump(col_to_index_dict, f, pickle.HIGHEST_PROTOCOL)\n",
    "    \n",
    "# with open('./pkl/common_words.pickle', 'wb') as f:\n",
    "#     pickle.dump(common_words, f, pickle.HIGHEST_PROTOCOL)\n",
    "    \n",
    "# with open('./pkl/init_vectorizer_vocabulary.pickle', 'wb') as f:\n",
    "#     pickle.dump(index_vectorizer.vocabulary_, f, pickle.HIGHEST_PROTOCOL)\n",
    "    \n",
    "# with open('../pkl/tfidf_vectorizer.pickle', 'wb') as f:\n",
    "#     pickle.dump(tfidf_vectorizer, f, pickle.HIGHEST_PROTOCOL)\n",
    "    \n",
    "# with open('../pkl/svm_classifier.pickle', 'wb') as f:\n",
    "#     pickle.dump(svm, f, pickle.HIGHEST_PROTOCOL)\n",
    "\n",
    "joblib.dump(optimal_forest.best_estimator_, './pkl/rf_regressor.pickle', compress = 1)"
   ]
  },
  {
   "cell_type": "markdown",
   "metadata": {
    "id": "-dcskGIIJJup"
   },
   "source": [
    "-----"
   ]
  },
  {
   "cell_type": "markdown",
   "metadata": {
    "id": "SZrfOMeIJJuq"
   },
   "source": [
    "### [가격 예측 프로그램 만들기]"
   ]
  },
  {
   "cell_type": "markdown",
   "metadata": {
    "id": "pcrEEHDfJJuq"
   },
   "source": [
    "##### 예측에 필요한 파일 로드"
   ]
  },
  {
   "cell_type": "code",
   "execution_count": 32,
   "metadata": {
    "id": "37_girirJJur"
   },
   "outputs": [],
   "source": [
    "import pickle\n",
    "\n",
    "with open('./pkl/model_to_factory_price_dict.pickle', 'rb') as f:\n",
    "    model_to_factory_price_dict = pickle.load(f)\n",
    "    \n",
    "with open('./pkl/col_to_index_dict.pickle', 'rb') as f:\n",
    "    col_to_index_dict = pickle.load(f)\n",
    "    \n",
    "# with open('../data/used_mobile_pickles/common_words.pickle', 'rb') as f:\n",
    "#     common_words = pickle.load(f)\n",
    "\n",
    "# with open('../data/used_mobile_pickles/init_vectorizer_vocabulary.pickle', 'rb') as f:\n",
    "#     init_vectorizer_vocabulary = pickle.load(f)\n",
    "    \n",
    "# with open('../data/used_mobile_pickles/tfidf_vectorizer.pickle', 'rb') as f:\n",
    "#     tfidf_vectorizer = pickle.load(f)\n",
    "    \n",
    "# with open('../data/used_mobile_pickles/svm_classifier.pickle', 'rb') as f:\n",
    "#     svm_classifier = pickle.load(f)\n",
    "\n",
    "rf_regressor = joblib.load('./pkl/rf_regressor.pickle')"
   ]
  },
  {
   "cell_type": "markdown",
   "metadata": {
    "id": "tloSxi-wJJus"
   },
   "source": [
    "-----"
   ]
  },
  {
   "cell_type": "markdown",
   "metadata": {
    "id": "SxHtofamJJus"
   },
   "source": [
    "##### 프로그램(클래스) 만들기"
   ]
  },
  {
   "cell_type": "code",
   "execution_count": 35,
   "metadata": {
    "id": "d2HqPPBfJJut"
   },
   "outputs": [],
   "source": [
    "import numpy as np\n",
    "\n",
    "from sklearn.svm import SVC\n",
    "from sklearn.ensemble import RandomForestRegressor\n",
    "from sklearn.model_selection import RandomizedSearchCV\n",
    "\n",
    "\n",
    "class how_much():\n",
    "    def __init__(self, model_to_factory_price_dict, col_to_index_dict, price_regressor, status_text):\n",
    "        self._model_to_factory_price_dict = model_to_factory_price_dict\n",
    "        self._col_to_index_dict = col_to_index_dict\n",
    "        self._price_regressor = price_regressor\n",
    "        self._status_text= status_text\n",
    "    \n",
    "    def _get_ftr_price(self, model_name):\n",
    "        return self._model_to_factory_price_dict[(model_name)]\n",
    "    \n",
    "    def _print_how_much(self, model, price, prd_status):\n",
    "        if prd_status == \"상\":\n",
    "            result_price1= int(price[0])*0.9\n",
    "            result_price2= int(price[0])*1.1\n",
    "        elif prd_status == \"중\":\n",
    "            result_price1= int(price[0])*0.8\n",
    "            result_price2= int(price[0])\n",
    "        else:\n",
    "            result_price1= int(price[0])*0.7\n",
    "            result_price2= int(price[0])*0.9\n",
    "        print(\"선택하신\", model, \"상품은\", prd_status, \"급의 상태입니다. 중고가 예상 가격은\", str(round(result_price1)), \" ~ \", str(round(result_price2)), \"원 입니다.\")\n",
    "    \n",
    "    def predict(self, input_dict):\n",
    "        feature = np.zeros(22)\n",
    "        feature[self._col_to_index_dict['factory_price']] = self._get_ftr_price(input_dict['model'])\n",
    "        feature[self._col_to_index_dict['create_time_score']] = input_dict['create_time_score']\n",
    "        feature[self._col_to_index_dict[\"_\".join([\"maker\", input_dict['maker']])]] = 1\n",
    "        feature[self._col_to_index_dict[\"_\".join([\"model\", input_dict['model']])]] = 1\n",
    "        \n",
    "        # predict result\n",
    "        predicted_price = self._price_regressor.predict([feature])\n",
    "        self._print_how_much(input_dict['model'], \n",
    "                            predicted_price, \n",
    "                            self._status_text)"
   ]
  },
  {
   "cell_type": "markdown",
   "metadata": {
    "id": "qoqSUUK-JJuu"
   },
   "source": [
    "-----"
   ]
  },
  {
   "cell_type": "markdown",
   "metadata": {
    "id": "tjvy8XRKJJuu"
   },
   "source": [
    "##### 프로그램 테스트"
   ]
  },
  {
   "cell_type": "code",
   "execution_count": 36,
   "metadata": {
    "colab": {
     "base_uri": "https://localhost:8080/",
     "height": 244
    },
    "executionInfo": {
     "elapsed": 647,
     "status": "error",
     "timestamp": 1636357576595,
     "user": {
      "displayName": "sumin cho",
      "photoUrl": "https://lh3.googleusercontent.com/a/default-user=s64",
      "userId": "13171594922590166882"
     },
     "user_tz": -540
    },
    "id": "5oO6FRtKJJuv",
    "outputId": "0f14571a-77f9-48dc-c324-9e8b37807ee8"
   },
   "outputs": [
    {
     "name": "stdout",
     "output_type": "stream",
     "text": [
      "상태를 입력해주세요(상, 중, 하): 상\n",
      "선택하신 나이키 에어맥스 97 상품은 상 급의 상태입니다. 중고가 예상 가격은 92536  ~  113100 원 입니다.\n"
     ]
    }
   ],
   "source": [
    "# 데이터의 가장 최근 시점인 2017년 4월을 기준으로 하기 위한 두 개(price_index, create_time_score)의 피처를 정의합니다.\n",
    "recent_create_time_score = 1.0\n",
    "\n",
    "# 판매 가격을 예측하고자 하는 메이커, 기종, 용량을 입력하고, 상품의 상태를 나타내는 게시글을 입력합니다.\n",
    "program_test_dict = {\"maker\": \"Nike\",\n",
    "                     \"model\": \"나이키 에어맥스 97\",\n",
    "                     \"text\": \"나이키 에어맥스 97 245mm 팔아요~ 직접거래 \\\n",
    "                         10만원에 팔아요 \\\n",
    "                         기스 이런거 하나도 없습니당~서울 강남 근처 직거래 가능하며 택배거래도 가능해요\",\n",
    "                     \"create_time_score\": recent_create_time_score}\n",
    "\n",
    "# 정의한 피처를 파라미터로 하여 오브젝트를 생성합니다.\n",
    "status=input(\"상태를 입력해주세요(상, 중, 하): \")\n",
    "Howmuch = how_much(model_to_factory_price_dict, col_to_index_dict, rf_regressor, status)\n",
    "\n",
    "# 입력한 데이터로 판매 가격을 예측합니다.\n",
    "Howmuch.predict(program_test_dict)"
   ]
  },
  {
   "cell_type": "code",
   "execution_count": null,
   "metadata": {},
   "outputs": [],
   "source": []
  }
 ],
 "metadata": {
  "colab": {
   "collapsed_sections": [
    "Cp3MXQ9dJJt-",
    "iJ5wkzRLJJuX",
    "GenuxC0uJJuc",
    "fW2nXm4FJJuo",
    "SZrfOMeIJJuq"
   ],
   "name": "중고가 예측 수정본.ipynb",
   "provenance": []
  },
  "kernelspec": {
   "display_name": "Python 3",
   "language": "python",
   "name": "python3"
  },
  "language_info": {
   "codemirror_mode": {
    "name": "ipython",
    "version": 3
   },
   "file_extension": ".py",
   "mimetype": "text/x-python",
   "name": "python",
   "nbconvert_exporter": "python",
   "pygments_lexer": "ipython3",
   "version": "3.8.3"
  },
  "toc": {
   "base_numbering": 1,
   "nav_menu": {},
   "number_sections": true,
   "sideBar": true,
   "skip_h1_title": false,
   "title_cell": "Table of Contents",
   "title_sidebar": "Contents",
   "toc_cell": false,
   "toc_position": {
    "height": "calc(100% - 180px)",
    "left": "10px",
    "top": "150px",
    "width": "384px"
   },
   "toc_section_display": true,
   "toc_window_display": true
  }
 },
 "nbformat": 4,
 "nbformat_minor": 1
}
