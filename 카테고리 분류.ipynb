{
 "cells": [
  {
   "cell_type": "code",
   "execution_count": 2,
   "id": "7a330769",
   "metadata": {
    "scrolled": true
   },
   "outputs": [
    {
     "name": "stdout",
     "output_type": "stream",
     "text": [
      "Collecting google-cloud-vision\n",
      "  Downloading google_cloud_vision-2.6.1-py2.py3-none-any.whl (372 kB)\n",
      "Collecting google-api-core[grpc]<3.0.0dev,>=1.26.0\n",
      "  Downloading google_api_core-2.2.1-py2.py3-none-any.whl (95 kB)\n",
      "Collecting proto-plus>=1.15.0\n",
      "  Downloading proto_plus-1.19.7-py3-none-any.whl (45 kB)\n",
      "Requirement already satisfied: packaging>=14.3 in c:\\users\\lg\\anaconda3\\lib\\site-packages (from google-cloud-vision) (20.9)\n",
      "Collecting google-auth<3.0dev,>=1.25.0\n",
      "  Downloading google_auth-2.3.3-py2.py3-none-any.whl (155 kB)\n",
      "Requirement already satisfied: requests<3.0.0dev,>=2.18.0 in c:\\users\\lg\\anaconda3\\lib\\site-packages (from google-api-core[grpc]<3.0.0dev,>=1.26.0->google-cloud-vision) (2.25.1)\n",
      "Requirement already satisfied: setuptools>=40.3.0 in c:\\users\\lg\\anaconda3\\lib\\site-packages (from google-api-core[grpc]<3.0.0dev,>=1.26.0->google-cloud-vision) (52.0.0.post20210125)\n",
      "Collecting protobuf>=3.12.0\n",
      "  Downloading protobuf-3.19.1-cp38-cp38-win_amd64.whl (895 kB)\n",
      "Collecting googleapis-common-protos<2.0dev,>=1.52.0\n",
      "  Downloading googleapis_common_protos-1.53.0-py2.py3-none-any.whl (198 kB)\n",
      "Collecting grpcio-status<2.0dev,>=1.33.2\n",
      "  Downloading grpcio_status-1.41.1-py3-none-any.whl (9.2 kB)\n",
      "Collecting grpcio<2.0dev,>=1.33.2\n",
      "  Downloading grpcio-1.41.1-cp38-cp38-win_amd64.whl (3.2 MB)\n",
      "Collecting cachetools<5.0,>=2.0.0\n",
      "  Downloading cachetools-4.2.4-py3-none-any.whl (10 kB)\n",
      "Collecting rsa<5,>=3.1.4\n",
      "  Using cached rsa-4.7.2-py3-none-any.whl (34 kB)\n",
      "Requirement already satisfied: six>=1.9.0 in c:\\users\\lg\\anaconda3\\lib\\site-packages (from google-auth<3.0dev,>=1.25.0->google-api-core[grpc]<3.0.0dev,>=1.26.0->google-cloud-vision) (1.15.0)\n",
      "Collecting pyasn1-modules>=0.2.1\n",
      "  Using cached pyasn1_modules-0.2.8-py2.py3-none-any.whl (155 kB)\n",
      "Requirement already satisfied: pyparsing>=2.0.2 in c:\\users\\lg\\anaconda3\\lib\\site-packages (from packaging>=14.3->google-cloud-vision) (2.4.7)\n",
      "Collecting pyasn1<0.5.0,>=0.4.6\n",
      "  Using cached pyasn1-0.4.8-py2.py3-none-any.whl (77 kB)\n",
      "Requirement already satisfied: urllib3<1.27,>=1.21.1 in c:\\users\\lg\\anaconda3\\lib\\site-packages (from requests<3.0.0dev,>=2.18.0->google-api-core[grpc]<3.0.0dev,>=1.26.0->google-cloud-vision) (1.26.4)\n",
      "Requirement already satisfied: certifi>=2017.4.17 in c:\\users\\lg\\anaconda3\\lib\\site-packages (from requests<3.0.0dev,>=2.18.0->google-api-core[grpc]<3.0.0dev,>=1.26.0->google-cloud-vision) (2020.12.5)\n",
      "Requirement already satisfied: idna<3,>=2.5 in c:\\users\\lg\\anaconda3\\lib\\site-packages (from requests<3.0.0dev,>=2.18.0->google-api-core[grpc]<3.0.0dev,>=1.26.0->google-cloud-vision) (2.10)\n",
      "Requirement already satisfied: chardet<5,>=3.0.2 in c:\\users\\lg\\anaconda3\\lib\\site-packages (from requests<3.0.0dev,>=2.18.0->google-api-core[grpc]<3.0.0dev,>=1.26.0->google-cloud-vision) (4.0.0)\n",
      "Installing collected packages: pyasn1, rsa, pyasn1-modules, protobuf, cachetools, grpcio, googleapis-common-protos, google-auth, grpcio-status, google-api-core, proto-plus, google-cloud-vision\n",
      "Successfully installed cachetools-4.2.4 google-api-core-2.2.1 google-auth-2.3.3 google-cloud-vision-2.6.1 googleapis-common-protos-1.53.0 grpcio-1.41.1 grpcio-status-1.41.1 proto-plus-1.19.7 protobuf-3.19.1 pyasn1-0.4.8 pyasn1-modules-0.2.8 rsa-4.7.2\n"
     ]
    }
   ],
   "source": [
    "# !pip install --upgrade google-cloud-vision"
   ]
  },
  {
   "cell_type": "code",
   "execution_count": 47,
   "id": "32c466e9",
   "metadata": {},
   "outputs": [
    {
     "name": "stdout",
     "output_type": "stream",
     "text": [
      "20211112_125514582988.jpg  saved\n"
     ]
    }
   ],
   "source": [
    "# 모듈 불러오기: import 모듈 이름 - 이미지 사용을 위한 opencv,\n",
    "# 이미지 저장 파일명 사용을 위한 datetime\n",
    "\n",
    "import cv2\n",
    "import datetime\n",
    "\n",
    "video_capture = cv2.VideoCapture(0)\n",
    "\n",
    "while (True):\n",
    "\n",
    "    grabbed, frame = video_capture.read()\n",
    "    cv2.imshow('Original Video', frame)\n",
    "\n",
    "    key = cv2.waitKey(1);\n",
    "    if key == ord('q'):\n",
    "        break\n",
    "    elif key == ord('s'):\n",
    "        file = datetime.datetime.now().strftime(\"%Y%m%d_%H%M%S%f\") + '.jpg'\n",
    "        cv2.imwrite(file, frame)\n",
    "        print(file, ' saved')\n",
    "        break\n",
    "\n",
    "video_capture.release()\n",
    "cv2.destroyAllWindows()"
   ]
  },
  {
   "cell_type": "code",
   "execution_count": 48,
   "id": "d47218bc",
   "metadata": {},
   "outputs": [],
   "source": [
    "import os \n",
    "os.environ['GOOGLE_APPLICATION_CREDENTIALS'] = 'wide-valve-330906-01ed0a04c542.json'"
   ]
  },
  {
   "cell_type": "code",
   "execution_count": 51,
   "id": "228bdaeb",
   "metadata": {},
   "outputs": [
    {
     "name": "stdout",
     "output_type": "stream",
     "text": [
      "Labels:\n",
      "Footwear = 98%\n",
      "Shoe = 96%\n",
      "Sneakers = 85%\n",
      "Walking shoe = 79%\n",
      "Art = 78%\n",
      "Font = 76%\n",
      "Athletic shoe = 71%\n",
      "Rectangle = 67%\n",
      "Synthetic rubber = 66%\n",
      "Plaster = 64%\n"
     ]
    }
   ],
   "source": [
    "import io \n",
    "import os \n",
    "# Imports the Google Cloud client library \n",
    "# 구글 라이브러리 import\n",
    "from google.cloud import vision \n",
    "# from google.cloud.vision import types\n",
    "\n",
    "# Instantiates a client \n",
    "# 사용할 클라이언트 설정\n",
    "client = vision.ImageAnnotatorClient() \n",
    "\n",
    "# The name of the image file to annotate \n",
    "file_name = os.path.abspath(file) \n",
    "\n",
    "# 이미지 읽기\n",
    "with io.open(file_name, 'rb') as image_file:\n",
    "    content = image_file.read() \n",
    "    \n",
    "image = vision.Image(content=content) \n",
    "# image = types.Image(content=content)\n",
    "\n",
    "# label 뽑아냄.\n",
    "response = client.label_detection(image=image) \n",
    "labels = response.label_annotations \n",
    "\n",
    "product_list=[]\n",
    "\n",
    "print('Labels:') \n",
    "for label in labels: \n",
    "    product_list.append(label.description)\n",
    "    print(label.description + \" = \" + str(int(label.score*100)) + \"%\")\n"
   ]
  },
  {
   "cell_type": "code",
   "execution_count": 52,
   "id": "9ff8f1ed",
   "metadata": {},
   "outputs": [
    {
     "data": {
      "text/plain": [
       "['Footwear', 'Shoe']"
      ]
     },
     "execution_count": 52,
     "metadata": {},
     "output_type": "execute_result"
    }
   ],
   "source": [
    "product_list[:2]"
   ]
  }
 ],
 "metadata": {
  "kernelspec": {
   "display_name": "Python 3",
   "language": "python",
   "name": "python3"
  },
  "language_info": {
   "codemirror_mode": {
    "name": "ipython",
    "version": 3
   },
   "file_extension": ".py",
   "mimetype": "text/x-python",
   "name": "python",
   "nbconvert_exporter": "python",
   "pygments_lexer": "ipython3",
   "version": "3.8.8"
  }
 },
 "nbformat": 4,
 "nbformat_minor": 5
}
